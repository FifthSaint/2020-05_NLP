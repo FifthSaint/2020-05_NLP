{
 "cells": [
  {
   "cell_type": "markdown",
   "metadata": {},
   "source": [
    "# 자연어처리와 기계학습에 대한 소개 및 배경\n",
    "\n",
    "강의에 앞서 다음 링크로 파이썬 설치 파일을 먼저 다운로드 시작해 주세요\n",
    "* [ANACONDA](https://www.anaconda.com/products/individual)"
   ]
  },
  {
   "cell_type": "markdown",
   "metadata": {},
   "source": [
    "\n",
    "* [강의 슬라이드](https://docs.google.com/presentation/d/1Yi631Ei9QHOta_lShuE-VeOt2mNWr9TOhsD1cROuhNI/edit?usp=sharing)"
   ]
  }
 ],
 "metadata": {
  "kernelspec": {
   "display_name": "Python 3",
   "language": "python",
   "name": "python3"
  },
  "language_info": {
   "codemirror_mode": {
    "name": "ipython",
    "version": 3
   },
   "file_extension": ".py",
   "mimetype": "text/x-python",
   "name": "python",
   "nbconvert_exporter": "python",
   "pygments_lexer": "ipython3",
   "version": "3.7.5"
  }
 },
 "nbformat": 4,
 "nbformat_minor": 2
}
